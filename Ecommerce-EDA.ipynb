{
  "nbformat": 4,
  "nbformat_minor": 0,
  "metadata": {
    "colab": {
      "name": "Pandas-Review.ipynb",
      "provenance": [],
      "toc_visible": true,
      "authorship_tag": "ABX9TyNbEbvfkCOtajndyRoruZwF",
      "include_colab_link": true
    },
    "kernelspec": {
      "name": "python3",
      "display_name": "Python 3"
    },
    "language_info": {
      "name": "python"
    }
  },
  "cells": [
    {
      "cell_type": "markdown",
      "metadata": {
        "id": "view-in-github",
        "colab_type": "text"
      },
      "source": [
        "<a href=\"https://colab.research.google.com/github/thunderbird57/Python/blob/master/Ecommerce-EDA.ipynb\" target=\"_parent\"><img src=\"https://colab.research.google.com/assets/colab-badge.svg\" alt=\"Open In Colab\"/></a>"
      ]
    },
    {
      "cell_type": "code",
      "metadata": {
        "id": "5E7fhkItHjA2"
      },
      "source": [
        "import pandas as pd"
      ],
      "execution_count": null,
      "outputs": []
    },
    {
      "cell_type": "markdown",
      "metadata": {
        "id": "JJ-xFvlfPPdR"
      },
      "source": [
        "Series -> 1 dimentional array\n",
        "\n",
        "DataFrame -> 2 Dimensional Array"
      ]
    },
    {
      "cell_type": "markdown",
      "metadata": {
        "id": "31C_64vhOSx0"
      },
      "source": [
        "### Series Creation and Indexing"
      ]
    },
    {
      "cell_type": "code",
      "metadata": {
        "colab": {
          "base_uri": "https://localhost:8080/"
        },
        "id": "TaoCsA5aHuoJ",
        "outputId": "3246ce0d-15fa-4df7-ccec-82735b288b0f"
      },
      "source": [
        "import pandas as pd\n",
        "\n",
        "l = range(1, 10)\n",
        "s = pd.Series(l)\n",
        "print(s)\n",
        "print(\"------------------\")\n",
        "x=3\n",
        "print(\"the index {} -> value is {}\".format(x, s[x]))\n"
      ],
      "execution_count": null,
      "outputs": [
        {
          "output_type": "stream",
          "name": "stdout",
          "text": [
            "0    1\n",
            "1    2\n",
            "2    3\n",
            "3    4\n",
            "4    5\n",
            "5    6\n",
            "6    7\n",
            "7    8\n",
            "8    9\n",
            "dtype: int64\n",
            "------------------\n",
            "the index 3 -> value is 4\n"
          ]
        }
      ]
    },
    {
      "cell_type": "code",
      "metadata": {
        "colab": {
          "base_uri": "https://localhost:8080/"
        },
        "id": "wVGRmTwKIeG5",
        "outputId": "e1f0a977-885e-4a05-827e-084461a7a958"
      },
      "source": [
        "# Create series with specified index\n",
        "import pandas as pd\n",
        "\n",
        "l = range(1, 6)\n",
        "# l is [1, 2, 3, 4, 5]\n",
        "idx = [\"aa\", \"bb\", \"ccc\", \"dddd\", \"eeeeee\"]\n",
        "s = pd.Series(l, idx)\n",
        "print(s)\n",
        "print(\"------------------\")\n",
        "i = \"ccc\"\n",
        "print(\"the index {} -> value is {}\".format(i, s[i]))"
      ],
      "execution_count": null,
      "outputs": [
        {
          "output_type": "stream",
          "name": "stdout",
          "text": [
            "aa        1\n",
            "bb        2\n",
            "ccc       3\n",
            "dddd      4\n",
            "eeeeee    5\n",
            "dtype: int64\n",
            "------------------\n",
            "the index ccc -> value is 3\n"
          ]
        }
      ]
    },
    {
      "cell_type": "code",
      "metadata": {
        "colab": {
          "base_uri": "https://localhost:8080/"
        },
        "id": "8PFfdX0GLOay",
        "outputId": "b9ec905e-0e03-4408-d7ef-077ff3d4fb4c"
      },
      "source": [
        "# Create a Series from Dictionary\n",
        "import pandas as pd\n",
        "\n",
        "d = {'bb': 1, 'a': 0, 'ccc': 2}\n",
        "s = pd.Series(d)\n",
        "print(s)\n",
        "print(\"------------------\")\n",
        "i = \"ccc\"\n",
        "print(\"the index {} -> value is {}\".format(i, s[i]))"
      ],
      "execution_count": null,
      "outputs": [
        {
          "output_type": "stream",
          "name": "stdout",
          "text": [
            "bb     1\n",
            "a      0\n",
            "ccc    2\n",
            "dtype: int64\n",
            "------------------\n",
            "the index ccc -> value is 2\n"
          ]
        }
      ]
    },
    {
      "cell_type": "code",
      "metadata": {
        "colab": {
          "base_uri": "https://localhost:8080/"
        },
        "id": "d9Yn65G0LQtg",
        "outputId": "83c178af-4a13-4d48-ec9f-7226362ff2b2"
      },
      "source": [
        "## Create a Series from Numpy Array\n",
        "\n",
        "import numpy as np\n",
        "\n",
        "l = np.arange(1, 10)\n",
        "print(type(l))\n",
        "print(\"----------------------------\")\n",
        "s = pd.Series(l)\n",
        "print(s)\n",
        "i = 3\n",
        "print(\"the index {} -> value is {}\".format(i, s[3]))"
      ],
      "execution_count": null,
      "outputs": [
        {
          "output_type": "stream",
          "name": "stdout",
          "text": [
            "<class 'numpy.ndarray'>\n",
            "----------------------------\n",
            "0    1\n",
            "1    2\n",
            "2    3\n",
            "3    4\n",
            "4    5\n",
            "5    6\n",
            "6    7\n",
            "7    8\n",
            "8    9\n",
            "dtype: int64\n",
            "the index 3 -> value is 4\n"
          ]
        }
      ]
    },
    {
      "cell_type": "code",
      "metadata": {
        "colab": {
          "base_uri": "https://localhost:8080/"
        },
        "id": "zhExn8CYLY2d",
        "outputId": "008947a3-a828-43a7-9b93-88e19244297a"
      },
      "source": [
        "# Series from Scaler\n",
        "\n",
        "s = pd.Series(3)\n",
        "print(s)\n",
        "print(\"----------------------------\")\n",
        "s = pd.Series(3, index=range(1,4))\n",
        "print(s)"
      ],
      "execution_count": null,
      "outputs": [
        {
          "output_type": "stream",
          "name": "stdout",
          "text": [
            "0    3\n",
            "dtype: int64\n",
            "----------------------------\n",
            "1    3\n",
            "2    3\n",
            "3    3\n",
            "dtype: int64\n"
          ]
        }
      ]
    },
    {
      "cell_type": "code",
      "metadata": {
        "colab": {
          "base_uri": "https://localhost:8080/"
        },
        "id": "cna3vjMlNdNY",
        "outputId": "14a8f3be-c462-4787-c77f-56d1a54ab675"
      },
      "source": [
        "## Pandas Series Indexing\n",
        "import pandas as pd\n",
        "\n",
        "s = pd.Series(range(1, 20))\n",
        "# integer index\n",
        "print(\"The second value of s is {}\".format(s[1]))\n",
        "print(\"-----------------\")\n",
        "# tuple index\n",
        "print(\"The second and sixth value of s is {}\".format(s[[1, 5]].values))\n",
        "print(\"-----------------\")\n",
        "# to the end elements\n",
        "print(\"All elements of s from the sixth index onwards are {}\".format(s[5:].values))\n",
        "print(\"-----------------\")\n",
        "# [start:stop:step]\n",
        "print(\"All elements of s from index=1 to the index=10\"\n",
        "      \"with step=2 onwards are {}\".format(s[1:10:2].values))\n",
        "print(\"-----------------\")"
      ],
      "execution_count": null,
      "outputs": [
        {
          "output_type": "stream",
          "name": "stdout",
          "text": [
            "The second value of s is 2\n",
            "-----------------\n",
            "The second and sixth value of s is [2 6]\n",
            "-----------------\n",
            "All elements of s from the sixth index onwards are [ 6  7  8  9 10 11 12 13 14 15 16 17 18 19]\n",
            "-----------------\n",
            "All elements of s from index=1 to the index=10with step=2 onwards are [ 2  4  6  8 10]\n",
            "-----------------\n"
          ]
        }
      ]
    },
    {
      "cell_type": "code",
      "metadata": {
        "colab": {
          "base_uri": "https://localhost:8080/"
        },
        "id": "M1nUpfYmNhC1",
        "outputId": "918b277f-7e5d-423d-9dd9-6922da94a931"
      },
      "source": [
        "## Advanced Slicing\n",
        "import pandas as pd\n",
        "\n",
        "s = pd.Series(range(1, 20))\n",
        "# get all even number\n",
        "s1 = s[s%2==0]\n",
        "print(\"All even number in the series are {}\".format(s1.values))\n",
        "print(\"-----------------\")\n",
        "s2 = s[s>8]\n",
        "print(\"All numbers which is larger than 8 in the series are {}\".format(s2.values))\n",
        "print(\"-----------------\")\n",
        "s3 = s[s > s.mean()]\n",
        "print(\"All numbesr which is larger than the mean of the series\"\n",
        "      \" in this series are {}\".format(s3.values))\n",
        "print(\"-----------------\")"
      ],
      "execution_count": null,
      "outputs": [
        {
          "output_type": "stream",
          "name": "stdout",
          "text": [
            "All even number in the series are [ 2  4  6  8 10 12 14 16 18]\n",
            "-----------------\n",
            "All numbers which is larger than 8 in the series are [ 9 10 11 12 13 14 15 16 17 18 19]\n",
            "-----------------\n",
            "All numbesr which is larger than the mean of the series in this series are [11 12 13 14 15 16 17 18 19]\n",
            "-----------------\n"
          ]
        }
      ]
    },
    {
      "cell_type": "markdown",
      "metadata": {
        "id": "RqBSTmo3OOny"
      },
      "source": [
        "### Vectorization operations"
      ]
    },
    {
      "cell_type": "code",
      "metadata": {
        "colab": {
          "base_uri": "https://localhost:8080/"
        },
        "id": "wH9n5QRGOc92",
        "outputId": "f4fdb884-785e-42ab-9c62-e79eb35f0f01"
      },
      "source": [
        "## You can use most of numpy methods with Pandas series\n",
        "\n",
        "s = pd.Series(range(1, 8))\n",
        "d1 = s * 2\n",
        "print(\"Multiplying all elements by 2.\\n The original series is {}.\\n\"\n",
        "      \"The new series is {}\".format(s.values, d1.values))\n",
        "print(\"-----------------\")\n",
        "d2 = s + s + s\n",
        "print(\"Adding two series objects\\n. The original series is {}.\\n\"\n",
        "      \"The new series is {}\".format(s.values, d2.values))\n",
        "print(\"-----------------\")\n",
        "d3 = np.sin(s)\n",
        "print(\"Applying sin() to all elements.\\n The original series is {}.\\n\"\n",
        "      \"The new series is {}\".format(s.values, d3.values))"
      ],
      "execution_count": null,
      "outputs": [
        {
          "output_type": "stream",
          "name": "stdout",
          "text": [
            "Multiplying all elements by 2.\n",
            " The original series is [1 2 3 4 5 6 7].\n",
            "The new series is [ 2  4  6  8 10 12 14]\n",
            "-----------------\n",
            "Adding two series objects\n",
            ". The original series is [1 2 3 4 5 6 7].\n",
            "The new series is [ 3  6  9 12 15 18 21]\n",
            "-----------------\n",
            "Applying sin() to all elements.\n",
            " The original series is [1 2 3 4 5 6 7].\n",
            "The new series is [ 0.84147098  0.90929743  0.14112001 -0.7568025  -0.95892427 -0.2794155\n",
            "  0.6569866 ]\n"
          ]
        }
      ]
    },
    {
      "cell_type": "markdown",
      "metadata": {
        "id": "Ur1UpOmqOaHC"
      },
      "source": [
        "## Creating DataFrame from Numpy Arrays"
      ]
    },
    {
      "cell_type": "code",
      "metadata": {
        "colab": {
          "base_uri": "https://localhost:8080/"
        },
        "id": "s9E1SOyYNvK9",
        "outputId": "bdbed37f-fc86-4ad1-971e-ff6b4a8aaec2"
      },
      "source": [
        "d = np.random.normal(size=(2,3))\n",
        "print(\"The original Numpy array\")\n",
        "print(d)\n",
        "print(\"---------------------\")\n",
        "\n",
        "s = pd.DataFrame(d)\n",
        "print(\"The DataFrame \")\n",
        "print(s)"
      ],
      "execution_count": null,
      "outputs": [
        {
          "output_type": "stream",
          "name": "stdout",
          "text": [
            "The original Numpy array\n",
            "[[-0.03404408  0.03305115 -1.05329636]\n",
            " [ 1.50844606  0.52082634 -1.59541694]]\n",
            "---------------------\n",
            "The DataFrame \n",
            "          0         1         2\n",
            "0 -0.034044  0.033051 -1.053296\n",
            "1  1.508446  0.520826 -1.595417\n"
          ]
        }
      ]
    },
    {
      "cell_type": "code",
      "metadata": {
        "colab": {
          "base_uri": "https://localhost:8080/"
        },
        "id": "micSR1WIQMyV",
        "outputId": "8aee0e2b-ead6-41ab-9929-363bc7c5f3f9"
      },
      "source": [
        "# From dictionary\n",
        "d = {\"a\": [1, 2, 3, 4], \"b\": [2, 4, 6, 8]}\n",
        "df = pd.DataFrame(d)\n",
        "print(\"The DataFrame \")\n",
        "print(df)\n",
        "print(\"---------------------\")\n",
        "print(\"The values of column a are {}\".format(df[\"a\"].values))\n",
        "\n",
        "# example 2: init a dataframe by dict with different index\n",
        "d = {\"a\": {\"a1\":1, \"a2\":2, \"c\":3}, \"b\":{\"b1\":2, \"b2\":4, \"c\":9}}\n",
        "df = pd.DataFrame(d)\n",
        "print(\"The DataFrame \")\n",
        "print(df)"
      ],
      "execution_count": null,
      "outputs": [
        {
          "output_type": "stream",
          "name": "stdout",
          "text": [
            "The DataFrame \n",
            "   a  b\n",
            "0  1  2\n",
            "1  2  4\n",
            "2  3  6\n",
            "3  4  8\n",
            "---------------------\n",
            "The values of column a are [1 2 3 4]\n",
            "The DataFrame \n",
            "      a    b\n",
            "a1  1.0  NaN\n",
            "a2  2.0  NaN\n",
            "c   3.0  9.0\n",
            "b1  NaN  2.0\n",
            "b2  NaN  4.0\n"
          ]
        }
      ]
    },
    {
      "cell_type": "code",
      "metadata": {
        "colab": {
          "base_uri": "https://localhost:8080/"
        },
        "id": "bkOPjbEUQoeK",
        "outputId": "5efda3bf-f468-44e9-eab9-4ad1425e87f1"
      },
      "source": [
        "# dictionary of series\n",
        "# example 1: series without index\n",
        "s = {\"a\": pd.Series(range(1, 3)), \"b\": pd.Series(range(2, 5))}\n",
        "\n",
        "df = pd.DataFrame(s)\n",
        "print(\"dataframe created from dict of series\")\n",
        "print(df)\n",
        "print(\"--------------------\")\n",
        "\n",
        "# example 2: series with index\n",
        "s = {\n",
        "    \"a\": pd.Series(range(1, 3), index=[\"a\", \"b\"]),\n",
        "    \"b\": pd.Series(range(2, 5), index=[\"b\", \"c\",\"d\"])\n",
        "}\n",
        "df = pd.DataFrame(s)\n",
        "print(\"dataframe created from dict of series with index\")\n",
        "print(df)"
      ],
      "execution_count": null,
      "outputs": [
        {
          "output_type": "stream",
          "name": "stdout",
          "text": [
            "dataframe created from dict of series\n",
            "     a  b\n",
            "0  1.0  2\n",
            "1  2.0  3\n",
            "2  NaN  4\n",
            "--------------------\n",
            "dataframe created from dict of series with index\n",
            "     a    b\n",
            "a  1.0  NaN\n",
            "b  2.0  2.0\n",
            "c  NaN  3.0\n",
            "d  NaN  4.0\n"
          ]
        }
      ]
    },
    {
      "cell_type": "code",
      "metadata": {
        "colab": {
          "base_uri": "https://localhost:8080/"
        },
        "id": "jzW7mTsMRBLS",
        "outputId": "3bd68321-09f9-4ca5-f172-a6f2161430a6"
      },
      "source": [
        "## from_dict cvonstruct\n",
        "d = {\"a\": [1, 2, 3, 4], \"b\": [2, 4, 6, 8]}\n",
        "df = pd.DataFrame.from_dict(d)\n",
        "print(\"dataframe created from from_dict\")\n",
        "print(df)\n",
        "print(\"--------------------\")\n",
        "\n",
        "df = pd.DataFrame.from_dict(d, orient=\"index\")\n",
        "print(\"dataframe created from from_dict and set the orient\")\n",
        "print(df)"
      ],
      "execution_count": null,
      "outputs": [
        {
          "output_type": "stream",
          "name": "stdout",
          "text": [
            "dataframe created from from_dict\n",
            "   a  b\n",
            "0  1  2\n",
            "1  2  4\n",
            "2  3  6\n",
            "3  4  8\n",
            "--------------------\n",
            "dataframe created from from_dict and set the orient\n",
            "   0  1  2  3\n",
            "a  1  2  3  4\n",
            "b  2  4  6  8\n"
          ]
        }
      ]
    },
    {
      "cell_type": "markdown",
      "metadata": {
        "id": "DPq9TTk-Rsdr"
      },
      "source": [
        "## Read CSV\n",
        "\n",
        "    sep: If sep is None, Python will automatically detect the separator. In this case, the separator is ,.\n",
        "    header: If no names are passed, the behavior is identical to header=0 and column names are inferred from the first line of the file. If the column names are passed explicitly, then the behavior is identical to the header=None.\n",
        "    names: List of column names provided by the caller. If the file contains the header row, you need to specify the header=0 to override it.\n",
        "    nrows: Specify how many rows you want to read.\n",
        "    usecols: Return a subset of the columns. You can pass the column names such as [\"a\", \"b\"]\n",
        "\n"
      ]
    },
    {
      "cell_type": "code",
      "metadata": {
        "colab": {
          "base_uri": "https://localhost:8080/"
        },
        "id": "4TAEPjS3TOv2",
        "outputId": "a5e016a2-bac8-4ee6-a9fa-52309f23f67c"
      },
      "source": [
        "from google.colab import drive\n",
        "drive.mount('/gdrive')"
      ],
      "execution_count": null,
      "outputs": [
        {
          "output_type": "stream",
          "name": "stdout",
          "text": [
            "Mounted at /gdrive\n"
          ]
        }
      ]
    },
    {
      "cell_type": "code",
      "metadata": {
        "colab": {
          "base_uri": "https://localhost:8080/"
        },
        "id": "vrR7mzlERyum",
        "outputId": "f7a05bd3-db5a-4e32-c408-0a3f93196642"
      },
      "source": [
        "sample = '/gdrive/My Drive/Colab Notebooks/Datasets/sample_pandas.csv'\n",
        "df = pd.read_csv(sample)\n",
        "\n",
        "\n",
        "# example: read all the files, use original column names\n",
        "\n",
        "print(\"Print the first row\")\n",
        "print(df.head(1))\n",
        "print(\"--------------------\")\n",
        "\n",
        "df = pd.read_csv(sample, sep=\",\", nrows=10)\n",
        "print(\"only read 10 rows\")\n",
        "print(\"The number of row in this dataframe is {}\".format(df.shape[0]))\n",
        "print(\"--------------------\")\n",
        "\n",
        "df = pd.read_csv(sample, sep=\",\", header=0, names=[\"a\", \"b\", \"c\"])\n",
        "print(\"use the new column names\")\n",
        "print(df.head(1))\n",
        "print(\"--------------------\")\n",
        "\n",
        "df = pd.read_csv(sample, sep=\",\", header=0, usecols=[\"animal\",\"water_need\"])\n",
        "print(\"only rad the animal column\")\n",
        "print(df.head(1))"
      ],
      "execution_count": null,
      "outputs": [
        {
          "output_type": "stream",
          "name": "stdout",
          "text": [
            "Print the first row\n",
            "     animal  uniq_id  water_need\n",
            "0  elephant     1001         500\n",
            "--------------------\n",
            "only read 10 rows\n",
            "The number of row in this dataframe is 10\n",
            "--------------------\n",
            "use the new column names\n",
            "          a     b    c\n",
            "0  elephant  1001  500\n",
            "--------------------\n",
            "only rad the animal column\n",
            "     animal  water_need\n",
            "0  elephant         500\n"
          ]
        }
      ]
    },
    {
      "cell_type": "code",
      "metadata": {
        "colab": {
          "base_uri": "https://localhost:8080/"
        },
        "id": "T4NsVZJdTrAl",
        "outputId": "cf90e8ab-ef98-44ce-eb8a-32d1ee9eee7f"
      },
      "source": [
        "df.shape"
      ],
      "execution_count": null,
      "outputs": [
        {
          "output_type": "execute_result",
          "data": {
            "text/plain": [
              "(22, 2)"
            ]
          },
          "metadata": {},
          "execution_count": 40
        }
      ]
    },
    {
      "cell_type": "code",
      "metadata": {
        "colab": {
          "base_uri": "https://localhost:8080/"
        },
        "id": "bEBc8I5qUW6q",
        "outputId": "0313d6c6-911b-434b-cf73-bbc9c2105b31"
      },
      "source": [
        "df = pd.read_csv(sample)\n",
        "\n",
        "col = df[\"uniq_id\"]\n",
        "print(\"The value of the \\\"uniq_id\\\" column is {}\".format(col.values))"
      ],
      "execution_count": null,
      "outputs": [
        {
          "output_type": "stream",
          "name": "stdout",
          "text": [
            "The value of the \"uniq_id\" column is [1001 1002 1003 1004 1005 1006 1007 1008 1009 1010 1011 1012 1013 1014\n",
            " 1015 1016 1017 1018 1019 1020 1021 1022]\n"
          ]
        }
      ]
    },
    {
      "cell_type": "code",
      "metadata": {
        "id": "77UKQk7iVd0L",
        "colab": {
          "base_uri": "https://localhost:8080/",
          "height": 135
        },
        "outputId": "4e00e91e-862a-4a74-fbee-6d1445610a06"
      },
      "source": [
        "kaggle datasets download -d olistbr/brazilian-ecommerce\n"
      ],
      "execution_count": 1,
      "outputs": [
        {
          "output_type": "error",
          "ename": "SyntaxError",
          "evalue": "ignored",
          "traceback": [
            "\u001b[0;36m  File \u001b[0;32m\"<ipython-input-1-56282c13f870>\"\u001b[0;36m, line \u001b[0;32m1\u001b[0m\n\u001b[0;31m    kaggle datasets download -d olistbr/brazilian-ecommerce\u001b[0m\n\u001b[0m                  ^\u001b[0m\n\u001b[0;31mSyntaxError\u001b[0m\u001b[0;31m:\u001b[0m invalid syntax\n"
          ]
        }
      ]
    }
  ]
}